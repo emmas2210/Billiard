{
 "cells": [
  {
   "cell_type": "markdown",
   "metadata": {},
   "source": [
    "# Billiard project"
   ]
  },
  {
   "cell_type": "markdown",
   "metadata": {},
   "source": [
    "## 1) Square case"
   ]
  },
  {
   "cell_type": "markdown",
   "metadata": {},
   "source": [
    "Assume that there is no friction and the Descartes rules are satisfied."
   ]
  },
  {
   "cell_type": "markdown",
   "metadata": {},
   "source": [
    "A game to play with this billiard would be to create words associated to trajectories:\n",
    "\n",
    "We start with an empty word. \n",
    "Then, when the ball hit the top or bottom part we add an H (H for horizontal) to the word and when the ball hit the left or right part, we add a V (V for vertical).\n",
    "Once words are created, we are going to analyse them with respect to the angle use to start the trajectory. We will restrict to words of size < 2000\n"
   ]
  },
  {
   "cell_type": "markdown",
   "metadata": {},
   "source": [
    "Let's start by creating a billard table."
   ]
  },
  {
   "cell_type": "code",
<<<<<<< HEAD:Billard.ipynb
   "execution_count": 7,
=======
   "execution_count": 10,
>>>>>>> 69090717a0c2acc796021f9f741dedde6cfb1910:ProjectBilliard.ipynb
   "metadata": {},
   "outputs": [],
   "source": [
    "#We import all the fuctions that we would need later\n",
    "import numpy as np  \n",
    "import matplotlib.pylab as plt\n",
    "import matplotlib.pyplot as plt\n",
    "import matplotlib.patches as pch\n",
    "from tkinter import *\n",
    "%matplotlib notebook\n",
<<<<<<< HEAD:Billard.ipynb
    "import threading\n",
    "import time\n",
    "from math import *\n",
    "import random\n"
=======
    "import time\n",
    "from math import *\n",
    "from random import *\n",
    "import sys\n",
    "from threading import Thread\n",
    "import tkinter"
>>>>>>> 69090717a0c2acc796021f9f741dedde6cfb1910:ProjectBilliard.ipynb
   ]
  },
  {
   "cell_type": "code",
<<<<<<< HEAD:Billard.ipynb
   "execution_count": 35,
=======
   "execution_count": 26,
>>>>>>> 69090717a0c2acc796021f9f741dedde6cfb1910:ProjectBilliard.ipynb
   "metadata": {},
   "outputs": [
    {
     "name": "stdout",
     "output_type": "stream",
     "text": [
<<<<<<< HEAD:Billard.ipynb
      "vhvhhhhhvvvhvhvhhvhvvvhvhvhvhvhvhvvhvhvhhhvvhvhvvhvhhhvhhhhhvhvhvhvhhvhvvhvvvhvvvhvhvhhvhvhhvvvhvhvhvhvhvvvhvhhvhvhvvhvhvhhhvhhhvhvhvhhhhvhvhhvhvhhvhhhhvvhvhvhhhvvvhhvvhhvvvvvhvhvhvhvvvvvhvhhvhvvhvvhh\n"
=======
      "vhvhvhvhvhvhvhvhvhvhvhvhvhvhvhvhvhvhvhvhvhvhvhvhvhvhvhvhvhvhvhvhvhvhvhvhvhvhvhvhvhvhvhvhvhvhvhvhvhvhvhvhvhvhvhvhvhvhvhvhvhvhvhvhvhvhvhvhvhvhvhvhvhvhvhvhvhvhvhvhvhvhvhvhvhvhvhvhvhvhvhvhvhvhvhvhvhvhvhvhvhvhvhvhvhvhvhvhvhvhvhvhvhvhvhvhvhvhvhvhvhvhvhvhvhvhvhvhvhvhvhvhvhvhvhvhvhvhvhvhvhvhvhvhvhvhvhvhvhvhvhvhvhvhvhvhvhvhvhvhvhvhvhvhvhvhvhvhvhvhvhvhvhvhvhvhvhvhvhvhvhvhvhvhvhvhvhvhvhvhvhvhvhvhvhvhvhvhvhvhvhvhvhvhvhvhvhvhvhvhvhvhvhvhvhvhvhvhvhvhvhvhvhvhvhvhvhvhvhvhvhvhvhvhvhvhvhvhvhvhvhvhvhvhvhvhvhvhvhvhvhvhvhvhvhvhvhvhvhvhvhvhvhvhvhvhvhvhvhvhvhvhvhvhvhvhvhvhvhvhvhvhvhvhvhvhvhvhvhvhvhvhvhvhvhvhvhvhvhvhvhvhvhvhvhvhvhvhvhvhvhvhvhvhvhvhvhvhvhvhvhvhvhvhvhvhvhvhvhvhvhvhvhvhvhvhvhvhvhvhvhvhvhvhvhvhvhvhvhvhvhvhvhvhvhvhvhvhvhvhvhvhvhvhvhvhvhvhvhvhvhvhvhvhvhvhvhvhvhvhvhvhvhvhvhvhvhvhvhvhvhvhvhvhvhvhvhvhvhvhvhvhvhvhvhvhvhvhvhvhvhvhvhvhvhvhvhvhvhvhvhvhvhvhvhvhvhvhvhvhvhvhvhvhvhvhvhvhvhvhvhvhvhvhvhvhvhvhvhvhvhvhvhvhvhvhvhvhvhvhvhvhvhvhvhvhvhvhvhvhvhvhvhvhvhvhvhvhvhvhvhvhvhvhvhvhvhvhvhvhvhvhvhvhvhvhvhvhvhvhvhvhvhvhvhvhvhvhvhvhvhvhvhvhvhvhvhvhvhvhvhvhvhvhvhvhvhvhvhvhvhvhvhvhvhvhvhvhvhvhvhvhvhvhvhvhvhvhvhvhvhvhvhvhvhvhvhvhvhvhvhvhvhvhvhvhvhvhvhvhvhvhvhvhvhvhvhvhvhvhvhvhvhvhvhvhvhvhvhvhvhvhvhvhvhvhvhvhvhvhvhvhvhvhvhvhvhvhvhvhvhvhvhvhvhvhvhvhvhvhvhvhvhvhvhvhvhvhvhvhvhvhvhvhvhvhvhvhvhvhvhvhvhvhvhvhvhvhvhvhvhvhvhvhvhvhvhvhvhvhvhvhvhvhvhvhvhvhvhvhvhvhvhvhvhvhvhvhvhvhvhvhvhvhvhvhvhvhvhvhvhvhvhvhvhvhvhvhvhvhvhvhvhvhvhvhvhvhvhvhvhvhvhvhvhvhvhvhvhvhvhvhvhvhvhvhvhvhvhvhvhvhvhvhvhvhvhvhvhvhvhvhvhvhvhvhvhvhvhvhvhvhvhvhvhvhvhvhvhvhvhvhvhvhvhvhvhvhvhvhvhvhvhvhvhvhvhvhvhvhvhvhvhvhvhvhvhvhvhvhvhvhvhvhvhvhvhvhvhvhvhvhvhvhvhvhvhvhvhvhvhvhvhvhvhvhvhvhvhvhvhvhvhvhvhvhvhvhvhvhvhvhvhvhvhvhvhvhvhvhvhvhvhvhvhvhvhvhvhvhvhvhvhvhvhvhvhvhvhvhvhvhvhvhvhvhvhvhvhvhvhvhvhvhvhvhvhvhvhvhvhvhvhvhvhvhvhvhvhvhvhvhvhvhvhvhvhvhvhvhvhvhvhvhvhvhvhvhvhvhvhvhvhvhvhvhvhvhvhvhvhvhvhvhvhvhvhvhvhvhvhvhvhvhvhvhvhvhvhvhvhvhvhvhvhvhvhvhvhvhvhvhvhvhvhvhvhvhvhvhvhvhvhvhvhvhvhvhvhvhvhvhvhvhvhvhvhvhvhvhvhvhvhvhvhvhvhvhvhvhvhvhvhvhvhvhvhvhvhvh\n"
>>>>>>> 69090717a0c2acc796021f9f741dedde6cfb1910:ProjectBilliard.ipynb
     ]
    }
   ],
   "source": [
<<<<<<< HEAD:Billard.ipynb
    "#We define the function of the ball's movement:\n",
    "from tkinter import *\n",
    "\n",
=======
    "#We define the function of the ball's movement: \n",
>>>>>>> 69090717a0c2acc796021f9f741dedde6cfb1910:ProjectBilliard.ipynb
    "def deplacement():\n",
    "    global dx, dy\n",
    "    if (canvas.coords(balle1)[3]>400):\n",
    "        dy=-1*dy\n",
    "    if (canvas.coords(balle1)[2]>400):\n",
    "        dx=-1*dx\n",
    "    if (canvas.coords(balle1)[1]<0):\n",
    "        dy=-1*dy\n",
    "    if (canvas.coords(balle1)[0]<0):\n",
    "        dx=-1*dx\n",
    "            \n",
    "    #Ball's movement :\n",
    "    canvas.move(balle1,dx,dy)\n",
    "    #We reiterate this function \n",
    "    tk.after(20,deplacement)\n",
    " \n",
    "#Initial movement\n",
    "dx=3\n",
    "dy=5\n",
    "\n",
    "# We create a new window with the tkinter function \n",
    "tk = Tk()\n",
    "tk.title(\"Square Billiard Game\")\n",
    "label_title=Label(tk,text=\"Welcome to billiard game\")\n",
    "label_title.pack()\n",
    "canvas = tkinter.Canvas(tk, width=\"400\", height=\"400\",background='#096a09') #Dimension square are 400x400\n",
    "canvas.pack(padx=10,pady=10)\n",
    "\n",
    "#We create an \"exit\" button\n",
    "Bouton_Quitter=Button(tk, text ='Quitter', command = tk.destroy)\n",
    "#On ajoute l'affichage du bouton dans la fenêtre tk:\n",
    "Bouton_Quitter.pack()\n",
    "\n",
    "#We create the ball \n",
    "balle1 = canvas.create_oval(10,10,30,30,fill='white')\n",
    "\n",
<<<<<<< HEAD:Billard.ipynb
    "\n",
    "#We create the collision between the ball and the bords of the billiard\n",
=======
    "#we start by creating an empty word called \"collision\"\n",
>>>>>>> 69090717a0c2acc796021f9f741dedde6cfb1910:ProjectBilliard.ipynb
    "collision = str()\n",
    "\n",
    "X2= (canvas.coords(balle1)[2]== 400) #when ball hit the right corner of the billiard\n",
    "X3= (canvas.coords(balle1)[3]== 400) #when ball hit the bottom of the billiard \n",
    "Z0= (canvas.coords(balle1)[0] == 0)  #when ball hit the left corner of the billiard\n",
    "Z1= (canvas.coords(balle1)[1] == 0)  ##when ball hit the top of the billiard\n",
    "        \n",
<<<<<<< HEAD:Billard.ipynb
    "\n",
    "while len(collision)<200:\n",
    "        X2=X3=random.randint(0,1)\n",
    "        Z0=Z1=random.randint(0,1)\n",
    "        if X2==X3==0:\n",
    "            collision += 'h'\n",
    "        if X2==X3==1:\n",
    "            collision\n",
    "        if Z0==Z1==0:\n",
    "            collision += 'v'\n",
    "        if Z0==Z1==1:\n",
    "            collision\n",
    "    \n",
    "print(collision)\n",
    "\n",
    "#On lance la boucle principale:\n",
    "tk.mainloop()\n",
    "\n",
    "\n",
    "\n"
=======
    "        \n",
    "while len(collision)<2000: #size restriction\n",
    "        \n",
    "        #X2=X3=randint(0,1)\n",
    "        #Z0=Z1=randint(0,1)\n",
    "    \n",
    "        if X2==Z0==0:\n",
    "            collision += 'v'\n",
    "        if X3==Z1==0:\n",
    "            collision += 'h'\n",
    "        \n",
    "        \n",
    "print(collision)\n",
    "\n",
    "deplacement()\n",
    "\n",
    "#We launch the windomw with animation\n",
    "tk.mainloop()\n"
>>>>>>> 69090717a0c2acc796021f9f741dedde6cfb1910:ProjectBilliard.ipynb
   ]
  },
  {
   "cell_type": "code",
   "execution_count": null,
   "metadata": {},
   "outputs": [],
   "source": []
  }
 ],
 "metadata": {
  "kernelspec": {
   "display_name": "Python 3",
   "language": "python",
   "name": "python3"
  },
  "language_info": {
   "codemirror_mode": {
    "name": "ipython",
    "version": 3
   },
   "file_extension": ".py",
   "mimetype": "text/x-python",
   "name": "python",
   "nbconvert_exporter": "python",
   "pygments_lexer": "ipython3",
   "version": "3.7.4"
  }
 },
 "nbformat": 4,
 "nbformat_minor": 2
}
