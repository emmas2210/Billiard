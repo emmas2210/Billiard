{
 "cells": [
  {
   "cell_type": "markdown",
   "metadata": {},
   "source": [
    "# 1) Square case:"
   ]
  },
  {
   "cell_type": "markdown",
   "metadata": {},
   "source": [
    "Assume that there is no friction and the Descartes rules are satisfied.\n",
    "A game to play with this billiard would be to create words associated to trajectories:\\\\\n",
    "-We start with an empty world. \\\\\n",
    "-Then, when the ball hit the top or bottom part we add an H (H for horizental) to the word and when the ball hit the left or right part, we add a V (V for vertical).\\\\\n",
    "-Once words are created, we are going to analyse them with respect to the angle use to start the trajectory. We will restrict to words of size <2000."
   ]
  },
  {
   "cell_type": "code",
   "execution_count": 7,
   "metadata": {},
   "outputs": [],
   "source": [
    "import numpy as np\n",
    "import matplotlib.pylab as plt\n",
    "import matplotlib.pyplot as plt\n",
    "import matplotlib.patches as pch\n",
    "from tkinter import *\n",
    "import threading \n",
    "import time \n",
    "from math import*\n",
    "import random\n",
    "from mpl_toolkits.mplot3d import Axes3D"
   ]
  },
  {
   "cell_type": "code",
   "execution_count": 8,
   "metadata": {},
   "outputs": [
    {
     "name": "stdout",
     "output_type": "stream",
     "text": [
      "vhvhvhvhvhvhvhvhvhvhvhvhvhvhvhvhvhvhvhvhvhvhvhvhvhvhvhvhvhvhvhvhvhvhvhvhvhvhvhvhvhvhvhvhvhvhvhvhvhvhvhvhvhvhvhvhvhvhvhvhvhvhvhvhvhvhvhvhvhvhvhvhvhvhvhvhvhvhvhvhvhvhvhvhvhvhvhvhvhvhvhvhvhvhvhvhvhvhvhvhvhvhvhvhvhvhvhvhvhvhvhvhvhvhvhvhvhvhvhvhvhvhvhvhvhvhvhvhvhvhvhvhvhvhvhvhvhvhvhvhvhvhvhvhvhvhvhvhvhvhvhvhvhvhvhvhvhvhvhvhvhvhvhvhvhvhvhvhvhvhvhvhvhvhvhvhvhvhvhvhvhvhvhvhvhvhvhvhvhvhvhvhvhvhvhvhvhvhvhvhvhvhvhvhvhvhvhvhvhvhvhvhvhvhvhvhvhvhvhvhvhvhvhvhvhvhvhvhvhvhvhvhvhvhvhvhvhvhvhvhvhvhvhvhvhvhvhvhvhvhvhvhvhvhvhvhvhvhvhvhvhvhvhvhvhvhvhvhvhvhvhvhvhvhvhvhvhvhvhvhvhvhvhvhvhvhvhvhvhvhvhvhvhvhvhvhvhvhvhvhvhvhvhvhvhvhvhvhvhvhvhvhvhvhvhvhvhvhvhvhvhvhvhvhvhvhvhvhvhvhvhvhvhvhvhvhvhvhvhvhvhvhvhvhvhvhvhvhvhvhvhvhvhvhvhvhvhvhvhvhvhvhvhvhvhvhvhvhvhvhvhvhvhvhvhvhvhvhvhvhvhvhvhvhvhvhvhvhvhvhvhvhvhvhvhvhvhvhvhvhvhvhvhvhvhvhvhvhvhvhvhvhvhvhvhvhvhvhvhvhvhvhvhvhvhvhvhvhvhvhvhvhvhvhvhvhvhvhvhvhvhvhvhvhvhvhvhvhvhvhvhvhvhvhvhvhvhvhvhvhvhvhvhvhvhvhvhvhvhvhvhvhvhvhvhvhvhvhvhvhvhvhvhvhvhvhvhvhvhvhvhvhvhvhvhvhvhvhvhvhvhvhvhvhvhvhvhvhvhvhvhvhvhvhvhvhvhvhvhvhvhvhvhvhvhvhvhvhvhvhvhvhvhvhvhvhvhvhvhvhvhvhvhvhvhvhvhvhvhvhvhvhvhvhvhvhvhvhvhvhvhvhvhvhvhvhvhvhvhvhvhvhvhvhvhvhvhvhvhvhvhvhvhvhvhvhvhvhvhvhvhvhvhvhvhvhvhvhvhvhvhvhvhvhvhvhvhvhvhvhvhvhvhvhvhvhvhvhvhvhvhvhvhvhvhvhvhvhvhvhvhvhvhvhvhvhvhvhvhvhvhvhvhvhvhvhvhvhvhvhvhvhvhvhvhvhvhvhvhvhvhvhvhvhvhvhvhvhvhvhvhvhvhvhvhvhvhvhvhvhvhvhvhvhvhvhvhvhvhvhvhvhvhvhvhvhvhvhvhvhvhvhvhvhvhvhvhvhvhvhvhvhvhvhvhvhvhvhvhvhvhvhvhvhvhvhvhvhvhvhvhvhvhvhvhvhvhvhvhvhvhvhvhvhvhvhvhvhvhvhvhvhvhvhvhvhvhvhvhvhvhvhvhvhvhvhvhvhvhvhvhvhvhvhvhvhvhvhvhvhvhvhvhvhvhvhvhvhvhvhvhvhvhvhvhvhvhvhvhvhvhvhvhvhvhvhvhvhvhvhvhvhvhvhvhvhvhvhvhvhvhvhvhvhvhvhvhvhvhvhvhvhvhvhvhvhvhvhvhvhvhvhvhvhvhvhvhvhvhvhvhvhvhvhvhvhvhvhvhvhvhvhvhvhvhvhvhvhvhvhvhvhvhvhvhvhvhvhvhvhvhvhvhvhvhvhvhvhvhvhvhvhvhvhvhvhvhvhvhvhvhvhvhvhvhvhvhvhvhvhvhvhvhvhvhvhvhvhvhvhvhvhvhvhvhvhvhvhvhvhvhvhvhvhvhvhvhvhvhvhvhvhvhvhvhvhvhvhvhvhvhvhvhvhvhvhvhvhvhvhvhvhvhvhvhvhvhvhvhvhvhvhvhvhvhvhvhvhvhvhvhvhvhvhvhvhvhvhvhvhvhvhvhvhvhvhvhvhvhvh\n"
     ]
    }
   ],
   "source": [
    "import tkinter\n",
    "%matplotlib notebook\n",
    "#We define the function of the ball's movement: \n",
    "def deplacement():\n",
    "    global dx, dy\n",
    "    if canvas.coords(balle1)[3]>400:\n",
    "        dy=-1*dy\n",
    "    if (canvas.coords(balle1)[2]>400):\n",
    "        dx=-1*dx\n",
    "    if (canvas.coords(balle1)[1]<0):\n",
    "        dy=-1*dy\n",
    "    if (canvas.coords(balle1)[0]<0):\n",
    "        dx=-1*dx\n",
    "            \n",
    "    #Ball's movement :\n",
    "    canvas.move(balle1,dx,dy)\n",
    "    #We reiterate this function \n",
    "    tk.after(20,deplacement)\n",
    " \n",
    "#Initial movement\n",
    "dx=3\n",
    "dy=5\n",
    "\n",
    "# We create a new window with the tkinter function \n",
    "tk = Tk()\n",
    "tk.title(\"Square Billiard Game\")\n",
    "label_title=Label(tk,text=\"Welcome to billiard game\")\n",
    "label_title.pack()\n",
    "canvas = tkinter.Canvas(tk, width=\"400\", height=\"400\",background='#096a09') #Dimension square are 400x400\n",
    "canvas.pack(padx=10,pady=10)\n",
    "\n",
    "#We create an \"exit\" button\n",
    "Bouton_Quitter=Button(tk, text ='Quitter', command = tk.destroy)\n",
    "#On ajoute l'affichage du bouton dans la fenêtre tk:\n",
    "Bouton_Quitter.pack()\n",
    "\n",
    "#We create the ball \n",
    "balle1 = canvas.create_oval(10,10,30,30,fill='white')\n",
    "\n",
    "#we start by creating an empty word called \"collision\"\n",
    "collision = str()\n",
    "\n",
    "X2= (canvas.coords(balle1)[2]== 400) #when ball hit the right corner of the billiard\n",
    "X3= (canvas.coords(balle1)[3]== 400) #when ball hit the bottom of the billiard \n",
    "Z0= (canvas.coords(balle1)[0] == 0)  #when ball hit the left corner of the billiard\n",
    "Z1= (canvas.coords(balle1)[1] == 0)  ##when ball hit the top of the billiard\n",
    "        \n",
    "        \n",
    "while len(collision)<2000: #size restriction\n",
    "        \n",
    "        #X2=X3=randint(0,1)\n",
    "        #Z0=Z1=randint(0,1)\n",
    "    \n",
    "        if X2==Z0==0:\n",
    "            collision += 'v'\n",
    "        if X3==Z1==0:\n",
    "            collision += 'h'\n",
    "        \n",
    "        \n",
    "print(collision)\n",
    "\n",
    "deplacement()\n",
    "\n",
    "#We launch the windomw with animation\n",
    "tk.mainloop()\n"
   ]
  },
  {
   "cell_type": "markdown",
   "metadata": {},
   "source": [
    "# 2) Torus case:"
   ]
  },
  {
   "cell_type": "markdown",
   "metadata": {},
   "source": []
  },
  {
   "cell_type": "code",
   "execution_count": 16,
   "metadata": {},
   "outputs": [
    {
     "ename": "TclError",
     "evalue": "can't invoke \"pack\" command: application has been destroyed",
     "output_type": "error",
     "traceback": [
      "\u001b[0;31m---------------------------------------------------------------------------\u001b[0m",
      "\u001b[0;31mTclError\u001b[0m                                  Traceback (most recent call last)",
      "\u001b[0;32m<ipython-input-16-49e2e045e15f>\u001b[0m in \u001b[0;36m<module>\u001b[0;34m\u001b[0m\n\u001b[1;32m      1\u001b[0m \u001b[0mwindow\u001b[0m\u001b[0;34m=\u001b[0m\u001b[0mTk\u001b[0m\u001b[0;34m(\u001b[0m\u001b[0;34m)\u001b[0m\u001b[0;34m\u001b[0m\u001b[0;34m\u001b[0m\u001b[0m\n\u001b[1;32m      2\u001b[0m \u001b[0mwindow\u001b[0m\u001b[0;34m.\u001b[0m\u001b[0mtitle\u001b[0m\u001b[0;34m(\u001b[0m\u001b[0;34m\"Flat Torus Billiard Game\"\u001b[0m\u001b[0;34m)\u001b[0m\u001b[0;34m\u001b[0m\u001b[0;34m\u001b[0m\u001b[0m\n\u001b[0;32m----> 3\u001b[0;31m \u001b[0mlabel_title\u001b[0m\u001b[0;34m.\u001b[0m\u001b[0mpack\u001b[0m\u001b[0;34m(\u001b[0m\u001b[0;34m)\u001b[0m\u001b[0;34m\u001b[0m\u001b[0;34m\u001b[0m\u001b[0m\n\u001b[0m\u001b[1;32m      4\u001b[0m \u001b[0mcanvas\u001b[0m\u001b[0;34m=\u001b[0m\u001b[0mtkinter\u001b[0m\u001b[0;34m.\u001b[0m\u001b[0mCanvas\u001b[0m\u001b[0;34m(\u001b[0m\u001b[0mwindow\u001b[0m\u001b[0;34m,\u001b[0m \u001b[0mwidth\u001b[0m\u001b[0;34m=\u001b[0m\u001b[0;34m\"400\"\u001b[0m \u001b[0;34m,\u001b[0m \u001b[0mheight\u001b[0m\u001b[0;34m=\u001b[0m\u001b[0;34m\"400\"\u001b[0m\u001b[0;34m,\u001b[0m \u001b[0mbackground\u001b[0m\u001b[0;34m=\u001b[0m\u001b[0;34m'#096a09'\u001b[0m\u001b[0;34m)\u001b[0m\u001b[0;34m\u001b[0m\u001b[0;34m\u001b[0m\u001b[0m\n\u001b[1;32m      5\u001b[0m \u001b[0mcanvas\u001b[0m\u001b[0;34m.\u001b[0m\u001b[0mpack\u001b[0m\u001b[0;34m(\u001b[0m\u001b[0mpadx\u001b[0m\u001b[0;34m=\u001b[0m\u001b[0;36m10\u001b[0m\u001b[0;34m,\u001b[0m\u001b[0mpady\u001b[0m\u001b[0;34m=\u001b[0m\u001b[0;36m10\u001b[0m\u001b[0;34m)\u001b[0m\u001b[0;34m\u001b[0m\u001b[0;34m\u001b[0m\u001b[0m\n",
      "\u001b[0;32m~/anaconda3/lib/python3.7/tkinter/__init__.py\u001b[0m in \u001b[0;36mpack_configure\u001b[0;34m(self, cnf, **kw)\u001b[0m\n\u001b[1;32m   2141\u001b[0m         self.tk.call(\n\u001b[1;32m   2142\u001b[0m               \u001b[0;34m(\u001b[0m\u001b[0;34m'pack'\u001b[0m\u001b[0;34m,\u001b[0m \u001b[0;34m'configure'\u001b[0m\u001b[0;34m,\u001b[0m \u001b[0mself\u001b[0m\u001b[0;34m.\u001b[0m\u001b[0m_w\u001b[0m\u001b[0;34m)\u001b[0m\u001b[0;34m\u001b[0m\u001b[0;34m\u001b[0m\u001b[0m\n\u001b[0;32m-> 2143\u001b[0;31m               + self._options(cnf, kw))\n\u001b[0m\u001b[1;32m   2144\u001b[0m     \u001b[0mpack\u001b[0m \u001b[0;34m=\u001b[0m \u001b[0mconfigure\u001b[0m \u001b[0;34m=\u001b[0m \u001b[0mconfig\u001b[0m \u001b[0;34m=\u001b[0m \u001b[0mpack_configure\u001b[0m\u001b[0;34m\u001b[0m\u001b[0;34m\u001b[0m\u001b[0m\n\u001b[1;32m   2145\u001b[0m     \u001b[0;32mdef\u001b[0m \u001b[0mpack_forget\u001b[0m\u001b[0;34m(\u001b[0m\u001b[0mself\u001b[0m\u001b[0;34m)\u001b[0m\u001b[0;34m:\u001b[0m\u001b[0;34m\u001b[0m\u001b[0;34m\u001b[0m\u001b[0m\n",
      "\u001b[0;31mTclError\u001b[0m: can't invoke \"pack\" command: application has been destroyed"
     ]
    }
   ],
   "source": [
    "window=Tk()\n",
    "window.title(\"Flat Torus Billiard Game\")\n",
    "label_title.pack()\n",
    "canvas=tkinter.Canvas(window, width=\"400\" , height=\"400\", background='#096a09')\n",
    "canvas.pack(padx=10,pady=10)\n",
    "n = 100\n",
    "#We create a ball \n",
    "balle1= canvas.create_oval(10,10,30,30,fill='white')\n",
    "theta = np.linspace(0, 2.*np.pi, n)\n",
    "phi = np.linspace(0, 2.*np.pi, n)\n",
    "theta, phi = np.meshgrid(theta, phi)\n",
    "c, a = 2, 1\n",
    "x = (c + a*np.cos(theta)) * np.cos(phi)\n",
    "y = (c + a*np.cos(theta)) * np.sin(phi)\n",
    "z = a * np.sin(theta)\n",
    "\n",
    "fig = plt.figure()\n",
    "ax1 = fig.add_subplot(121, projection='3d')\n",
    "ax1.set_zlim(-3,3)\n",
    "ax1.plot_surface(x, y, z, rstride=5, cstride=5, color='k', edgecolors='w')\n",
    "ax1.view_init(36, 26)\n",
    "ax2 = fig.add_subplot(122, projection='3d')\n",
    "ax2.set_zlim(-3,3)\n",
    "ax2.plot_surface(x, y, z, rstride=5, cstride=5, color='k', edgecolors='w')\n",
    "ax2.view_init(0, 0)\n",
    "ax2.set_xticks([])\n",
    "plt.show()\n",
    "window.mainloop()"
   ]
  },
  {
   "cell_type": "code",
   "execution_count": 10,
   "metadata": {},
   "outputs": [],
   "source": [
    "import tkinter\n",
    "%matplotlib notebook\n",
    "tk = Tk()\n",
    "tk.title(\"Square Billiard Game\")\n",
    "label_title=Label(tk,text=\"Welcome to billiard game\")\n",
    "label_title.pack()\n",
    "canvas = tkinter.Canvas(tk, width=\"400\", height=\"400\",background='#096a09') #Dimension square are 400x400\n",
    "canvas.pack(padx=10,pady=10)\n",
    "#We define the function of the ball's movement: \n",
    "def deplacement():\n",
    "    global dx, dy\n",
    "    if canvas.coords(balle1)[3]>400:\n",
    "        dy=-1*dy\n",
    "    canvas.move(balle1,dx,dy)\n",
    "    #We reiterate this function \n",
    "    tk.after(20,deplacement)\n",
    " \n",
    "#Initial movement\n",
    "dx=3\n",
    "dy=5\n",
    "        \n",
    "balle1 = canvas.create_oval(10,10,30,30,fill='white')\n",
    "\n",
    "#we start by creating an empty word called \"collision\"\n",
    "collision = str()\n",
    "deplacement()\n",
    "\n",
    "#We launch the windomw with animation\n",
    "tk.mainloop()"
   ]
  }
 ],
 "metadata": {
  "kernelspec": {
   "display_name": "Python 3",
   "language": "python",
   "name": "python3"
  },
  "language_info": {
   "codemirror_mode": {
    "name": "ipython",
    "version": 3
   },
   "file_extension": ".py",
   "mimetype": "text/x-python",
   "name": "python",
   "nbconvert_exporter": "python",
   "pygments_lexer": "ipython3",
   "version": "3.7.4"
  }
 },
 "nbformat": 4,
 "nbformat_minor": 2
}
