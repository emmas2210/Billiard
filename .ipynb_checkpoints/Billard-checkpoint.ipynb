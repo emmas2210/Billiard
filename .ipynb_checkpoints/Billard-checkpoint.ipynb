{
 "cells": [
  {
   "cell_type": "markdown",
   "metadata": {},
   "source": [
    "# Billiard project"
   ]
  },
  {
   "cell_type": "markdown",
   "metadata": {},
   "source": [
    "## 1) Square case"
   ]
  },
  {
   "cell_type": "markdown",
   "metadata": {},
   "source": [
    "Assume that there is no friction and the Descartes rules are satisfied."
   ]
  },
  {
   "cell_type": "markdown",
   "metadata": {},
   "source": [
    "A game to play with this billiard would be to create words associated to trajectories:\n",
    "\n",
    "We start with an empty word. \n",
    "Then, when the ball hit the top or bottom part we add an H (H for horizontal) to the word and when the ball hit the left or right part, we add a V (V for vertical).\n",
    "Once words are created, we are going to analyse them with respect to the angle use to start the trajectory. We will restrict to words of size < 2000\n"
   ]
  },
  {
   "cell_type": "markdown",
   "metadata": {},
   "source": [
    "Let's start by creating a billard table."
   ]
  },
  {
   "cell_type": "code",
   "execution_count": 3,
   "metadata": {},
   "outputs": [],
   "source": [
    "import numpy as np  \n",
    "import matplotlib.pylab as plt\n",
    "import matplotlib.pyplot as plt\n",
    "import matplotlib.pyplot as plt\n",
    "import matplotlib.patches as pch\n",
    "from tkinter import *\n",
    "%matplotlib notebook\n",
    "import tkinter\n",
    "import time\n",
    "from math import *\n"
   ]
  },
  {
   "cell_type": "code",
   "execution_count": 9,
   "metadata": {},
   "outputs": [],
   "source": [
    "from tkinter import *\n",
    "#We define the function of the ball's movement: \n",
    "\n",
    "def deplacement():\n",
    "    global dx, dy\n",
    "    if canvas.coords(balle1)[3]>400:\n",
    "        dy=-1*dy\n",
    "    if (canvas.coords(balle1)[2]>400):\n",
    "        dx=-1*dx\n",
    "    if (canvas.coords(balle1)[1]<0):\n",
    "        dy=-1*dy\n",
    "    if (canvas.coords(balle1)[0]<0):\n",
    "        dx=-1*dx\n",
    "            \n",
    "    #Ball's movement :\n",
    "    canvas.move(balle1,dx,dy)\n",
    "    #We reiterate this function \n",
    "    tk.after(20,deplacement)\n",
    " \n",
    "#Deplacement de la balle au départ:\n",
    "dx=3\n",
    "dy=5\n",
    "    \n",
    " \n",
    "# We create a new window with the tkinter function \n",
    "window = tkinter.Tk()\n",
    "tk = Tk()\n",
    "tk.title(\"Square Billiard Game\")\n",
    "label_title=Label(tk,text=\"Welcome to billiard game\")\n",
    "label_title.pack()\n",
    "canvas = tkinter.Canvas(tk, width=\"400\", height=\"400\",background='#096a09') #Dimension square are 400x400\n",
    "canvas.pack(padx=10,pady=10)\n",
    " \n",
    "#We create an \"exit\" button\n",
    "Bouton_Quitter=Button(tk, text ='Quitter', command = tk.destroy)\n",
    "#On ajoute l'affichage du bouton dans la fenêtre tk:\n",
    "Bouton_Quitter.pack()\n",
    " \n",
    "#We create a ball \n",
    "balle1 = canvas.create_oval(10,10,30,30,fill='white')\n",
    " \n",
    "deplacement()\n",
    " \n",
    "#On lance la boucle principale:\n",
    "tk.mainloop()\n",
    "\n",
    "\n",
    "\n"
   ]
  },
  {
   "cell_type": "code",
   "execution_count": 16,
   "metadata": {},
   "outputs": [
    {
     "ename": "TclError",
     "evalue": "invalid command name \".!canvas\"",
     "output_type": "error",
     "traceback": [
      "\u001b[1;31m---------------------------------------------------------------------------\u001b[0m",
      "\u001b[1;31mTclError\u001b[0m                                  Traceback (most recent call last)",
      "\u001b[1;32m<ipython-input-16-cb611d64dc9d>\u001b[0m in \u001b[0;36m<module>\u001b[1;34m\u001b[0m\n\u001b[0;32m      6\u001b[0m \u001b[1;33m\u001b[0m\u001b[0m\n\u001b[0;32m      7\u001b[0m \u001b[1;32mwhile\u001b[0m \u001b[0mlen\u001b[0m\u001b[1;33m(\u001b[0m\u001b[0mcollision\u001b[0m\u001b[1;33m)\u001b[0m\u001b[1;33m<\u001b[0m\u001b[1;36m20\u001b[0m\u001b[1;33m:\u001b[0m\u001b[1;33m\u001b[0m\u001b[1;33m\u001b[0m\u001b[0m\n\u001b[1;32m----> 8\u001b[1;33m     \u001b[1;32mif\u001b[0m \u001b[0mcanvas\u001b[0m\u001b[1;33m.\u001b[0m\u001b[0mcoords\u001b[0m\u001b[1;33m(\u001b[0m\u001b[0mballe1\u001b[0m\u001b[1;33m)\u001b[0m\u001b[1;33m[\u001b[0m\u001b[1;36m3\u001b[0m\u001b[1;33m]\u001b[0m\u001b[1;33m==\u001b[0m \u001b[1;36m400\u001b[0m\u001b[1;33m:\u001b[0m\u001b[1;33m\u001b[0m\u001b[1;33m\u001b[0m\u001b[0m\n\u001b[0m\u001b[0;32m      9\u001b[0m         \u001b[0mcollision\u001b[0m \u001b[1;33m+=\u001b[0m \u001b[1;34m'h'\u001b[0m\u001b[1;33m\u001b[0m\u001b[1;33m\u001b[0m\u001b[0m\n\u001b[0;32m     10\u001b[0m \u001b[1;33m\u001b[0m\u001b[0m\n",
      "\u001b[1;32m~\\Anaconda3\\lib\\tkinter\\__init__.py\u001b[0m in \u001b[0;36mcoords\u001b[1;34m(self, *args)\u001b[0m\n\u001b[0;32m   2467\u001b[0m         return [self.tk.getdouble(x) for x in\n\u001b[0;32m   2468\u001b[0m                            self.tk.splitlist(\n\u001b[1;32m-> 2469\u001b[1;33m                    self.tk.call((self._w, 'coords') + args))]\n\u001b[0m\u001b[0;32m   2470\u001b[0m     \u001b[1;32mdef\u001b[0m \u001b[0m_create\u001b[0m\u001b[1;33m(\u001b[0m\u001b[0mself\u001b[0m\u001b[1;33m,\u001b[0m \u001b[0mitemType\u001b[0m\u001b[1;33m,\u001b[0m \u001b[0margs\u001b[0m\u001b[1;33m,\u001b[0m \u001b[0mkw\u001b[0m\u001b[1;33m)\u001b[0m\u001b[1;33m:\u001b[0m \u001b[1;31m# Args: (val, val, ..., cnf={})\u001b[0m\u001b[1;33m\u001b[0m\u001b[1;33m\u001b[0m\u001b[0m\n\u001b[0;32m   2471\u001b[0m         \u001b[1;34m\"\"\"Internal function.\"\"\"\u001b[0m\u001b[1;33m\u001b[0m\u001b[1;33m\u001b[0m\u001b[0m\n",
      "\u001b[1;31mTclError\u001b[0m: invalid command name \".!canvas\""
     ]
    }
   ],
   "source": [
    "#creation du mot\n",
    "dx=3\n",
    "dy=5\n",
    "\n",
    "collision = str() \n",
    "\n",
    "while len(collision)<20:\n",
    "    if canvas.coords(balle1)[3]== 400:\n",
    "        collision += 'h'\n",
    "        \n",
    "        \n",
    "    if (canvas.coords(balle1)[2]==400):\n",
    "        collision += 'v'\n",
    "        \n",
    "        \n",
    "    if (canvas.coords(balle1)[1] == 0):\n",
    "        collision += 'h'\n",
    "        \n",
    "        \n",
    "    if (canvas.coords(balle1)[0] == 0):\n",
    "        collision += 'v'\n",
    "        \n",
    "    canvas.move(balle1,dx,dy)\n",
    "       \n",
    "    print(collision)"
   ]
  },
  {
   "cell_type": "code",
   "execution_count": null,
   "metadata": {},
   "outputs": [],
   "source": []
  }
 ],
 "metadata": {
  "kernelspec": {
   "display_name": "Python 3",
   "language": "python",
   "name": "python3"
  },
  "language_info": {
   "codemirror_mode": {
    "name": "ipython",
    "version": 3
   },
   "file_extension": ".py",
   "mimetype": "text/x-python",
   "name": "python",
   "nbconvert_exporter": "python",
   "pygments_lexer": "ipython3",
   "version": "3.7.4"
  }
 },
 "nbformat": 4,
 "nbformat_minor": 2
}
